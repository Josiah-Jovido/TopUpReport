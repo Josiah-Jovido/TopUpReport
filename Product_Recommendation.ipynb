{
 "cells": [
  {
   "cell_type": "markdown",
   "id": "20afdb7d",
   "metadata": {},
   "source": [
    "# Product Recommendation Full Analysis"
   ]
  },
  {
   "cell_type": "code",
   "execution_count": 1,
   "id": "fd32f128",
   "metadata": {},
   "outputs": [],
   "source": [
    "import numpy as np\n",
    "import pandas as pd\n",
    "import matplotlib.pyplot as plt\n",
    "\n",
    "%matplotlib inline\n",
    "plt.style.use(\"ggplot\")\n",
    "\n",
    "import sklearn\n",
    "from sklearn.decomposition import TruncatedSVD"
   ]
  },
  {
   "cell_type": "markdown",
   "id": "d9a7c711",
   "metadata": {},
   "source": [
    "#### Importing the datasets\n",
    "\n",
    "**ky** - Kenya\n",
    "\n",
    "**ng** - Nigeria"
   ]
  },
  {
   "cell_type": "code",
   "execution_count": 2,
   "id": "9e977681",
   "metadata": {},
   "outputs": [],
   "source": [
    "missing_value_formats = \"-\"\n",
    "ky_customers = pd.read_csv('./datasets/Kenya Customers.csv', na_values = missing_value_formats)"
   ]
  },
  {
   "cell_type": "code",
   "execution_count": 3,
   "id": "c0d7d446",
   "metadata": {},
   "outputs": [],
   "source": [
    "missing_value_formats = \"-\"\n",
    "ky_deliveries = pd.read_csv('./datasets/Kenya Deliveries.csv', na_values = missing_value_formats)\n",
    "\n",
    "missing_value_formats = \"-\"\n",
    "ky_orders = pd.read_csv('./datasets/Kenya Orders.csv', na_values = missing_value_formats)\n",
    "\n",
    "missing_value_formats = \"-\"\n",
    "ng_customers = pd.read_csv('./datasets/Nigeria Customers.csv', na_values = missing_value_formats)\n",
    "\n",
    "missing_value_formats = \"-\"\n",
    "ng_deliveries = pd.read_csv('./datasets/Nigeria Deliveries.csv', na_values = missing_value_formats)\n",
    "\n",
    "missing_value_formats = \"-\"\n",
    "ng_orders = pd.read_csv('./datasets/Nigeria Orders.csv', na_values = missing_value_formats)"
   ]
  },
  {
   "cell_type": "markdown",
   "id": "0644eca7",
   "metadata": {},
   "source": [
    "#### Merging datasets for Kenya"
   ]
  },
  {
   "cell_type": "code",
   "execution_count": 4,
   "id": "a8db1a79",
   "metadata": {},
   "outputs": [],
   "source": [
    "ky_data = pd.concat([ky_customers, ky_orders], axis=1)"
   ]
  },
  {
   "cell_type": "code",
   "execution_count": 5,
   "id": "cb186595",
   "metadata": {},
   "outputs": [],
   "source": [
    "ky_data = pd.concat([ky_data, ky_deliveries], axis=1)"
   ]
  },
  {
   "cell_type": "markdown",
   "id": "4c224b6f",
   "metadata": {},
   "source": [
    "#### Merging datasets for Nigeria"
   ]
  },
  {
   "cell_type": "code",
   "execution_count": 6,
   "id": "9363e6be",
   "metadata": {},
   "outputs": [],
   "source": [
    "ng_data = pd.concat([ng_customers, ng_orders], axis=1)"
   ]
  },
  {
   "cell_type": "code",
   "execution_count": 7,
   "id": "e656b408",
   "metadata": {},
   "outputs": [],
   "source": [
    "ng_data = pd.concat([ng_data, ng_deliveries], axis=1)"
   ]
  },
  {
   "cell_type": "markdown",
   "id": "34941924",
   "metadata": {},
   "source": [
    "#### Data Cleaning Kenya"
   ]
  },
  {
   "cell_type": "code",
   "execution_count": 8,
   "id": "a4819299",
   "metadata": {},
   "outputs": [],
   "source": [
    "ky_orders.dropna(axis = 1, how ='all', inplace=True)"
   ]
  },
  {
   "cell_type": "code",
   "execution_count": 9,
   "id": "f692c436",
   "metadata": {},
   "outputs": [],
   "source": [
    "ky_orders['Description'].fillna('None', inplace=True)"
   ]
  },
  {
   "cell_type": "code",
   "execution_count": 10,
   "id": "8533f550",
   "metadata": {},
   "outputs": [],
   "source": [
    "ky_orders['SKU'].fillna('None', inplace=True)"
   ]
  },
  {
   "cell_type": "code",
   "execution_count": 11,
   "id": "7de0b505",
   "metadata": {},
   "outputs": [],
   "source": [
    "ky_orders['Ratings'].fillna(0, inplace=True)"
   ]
  },
  {
   "cell_type": "code",
   "execution_count": 12,
   "id": "232681f7",
   "metadata": {},
   "outputs": [],
   "source": [
    "ky_orders['Reviews'].fillna('No review', inplace=True)"
   ]
  },
  {
   "cell_type": "code",
   "execution_count": 13,
   "id": "fdc37d6a",
   "metadata": {},
   "outputs": [],
   "source": [
    "ky_orders['Redeemed Loyalty Points'].fillna(0, inplace=True)"
   ]
  },
  {
   "cell_type": "code",
   "execution_count": 14,
   "id": "4940a090",
   "metadata": {},
   "outputs": [],
   "source": [
    "ky_orders['Consumed Loyalty Points'].fillna(0, inplace=True)"
   ]
  },
  {
   "cell_type": "code",
   "execution_count": 15,
   "id": "3bd0c441",
   "metadata": {},
   "outputs": [],
   "source": [
    "ky_orders['Cost Price'].fillna(method='pad', inplace=True)\n",
    "ky_orders['Total Cost Price'].fillna(method='pad', inplace=True)\n",
    "ky_orders['Category Name'].fillna(method='pad', inplace=True)"
   ]
  },
  {
   "cell_type": "code",
   "execution_count": 16,
   "id": "b5437d9e",
   "metadata": {},
   "outputs": [
    {
     "data": {
      "text/plain": [
       "Order ID                   0\n",
       "Order Status               0\n",
       "Category Name              0\n",
       "SKU                        0\n",
       "Quantity                   0\n",
       "Unit Price                 0\n",
       "Cost Price                 0\n",
       "Total Cost Price           0\n",
       "Total Price                0\n",
       "Order Total                0\n",
       "Sub Total                  0\n",
       "Remaining Balance          0\n",
       "Payment Method             0\n",
       "Transaction ID             0\n",
       "Currency Symbol            0\n",
       "Customer ID                0\n",
       "Merchant ID                0\n",
       "Store Name                 0\n",
       "Pickup Address             0\n",
       "Description                0\n",
       "Distance (in km)           0\n",
       "Order Time                 0\n",
       "Pickup Time                0\n",
       "Delivery Time              0\n",
       "Ratings                    0\n",
       "Reviews                    0\n",
       "Order Preparation Time     0\n",
       "Redeemed Loyalty Points    0\n",
       "Consumed Loyalty Points    0\n",
       "Flat Discount              0\n",
       "dtype: int64"
      ]
     },
     "execution_count": 16,
     "metadata": {},
     "output_type": "execute_result"
    }
   ],
   "source": [
    "ky_orders.isnull().sum()"
   ]
  },
  {
   "cell_type": "markdown",
   "id": "bf3ce6f1",
   "metadata": {},
   "source": [
    "## Product Recommendation\n",
    "\n",
    "A well developed recommendation system will help businesses improve their customers experience on website and result in better customer acquisition and retention.\n",
    "\n",
    "The recommendation system, I have designed below is based on the journey of a new customer from the time he/she lands on the business’s website for the first time to when he/she makes repeat purchases.\n",
    "\n",
    "The recommendation system is designed in 3 parts based on the business context:\n",
    "\n",
    "* Recommendation system part I: Product popularity based system targetted at new customers\n",
    "\n",
    "* Recommendation system part II: Model-based collaborative filtering system based on customer's purchase history and ratings provided by other users who bought items similar items\n",
    "\n",
    "* Recommendation system part III: When a business is setting up its e-commerce website for the first time without any product rating\n",
    "\n",
    "When a new customer without any previous purchase history visits the e-commerce website for the first time, he/she is recommended the most popular products sold on the company's website. Once, he/she makes a purchase, the recommendation system updates and recommends other products based on the purchase history and ratings provided by other users on the website. The latter part is done using collaborative filtering techniques.\n",
    "\n",
    "\n",
    "##### Recommendation System - Part I\n",
    "Product popularity based recommendation system targeted at new customers\n",
    "* Popularity based are a great strategy to target the new customers with the most popular products sold on a business's website and is very useful to cold start a recommendation engine."
   ]
  },
  {
   "cell_type": "code",
   "execution_count": 17,
   "id": "e86e9e3d",
   "metadata": {},
   "outputs": [
    {
     "data": {
      "text/html": [
       "<div>\n",
       "<style scoped>\n",
       "    .dataframe tbody tr th:only-of-type {\n",
       "        vertical-align: middle;\n",
       "    }\n",
       "\n",
       "    .dataframe tbody tr th {\n",
       "        vertical-align: top;\n",
       "    }\n",
       "\n",
       "    .dataframe thead th {\n",
       "        text-align: right;\n",
       "    }\n",
       "</style>\n",
       "<table border=\"1\" class=\"dataframe\">\n",
       "  <thead>\n",
       "    <tr style=\"text-align: right;\">\n",
       "      <th></th>\n",
       "      <th>Ratings</th>\n",
       "    </tr>\n",
       "    <tr>\n",
       "      <th>Order ID</th>\n",
       "      <th></th>\n",
       "    </tr>\n",
       "  </thead>\n",
       "  <tbody>\n",
       "    <tr>\n",
       "      <th>11197785</th>\n",
       "      <td>36</td>\n",
       "    </tr>\n",
       "    <tr>\n",
       "      <th>11118329</th>\n",
       "      <td>34</td>\n",
       "    </tr>\n",
       "    <tr>\n",
       "      <th>10806900</th>\n",
       "      <td>33</td>\n",
       "    </tr>\n",
       "    <tr>\n",
       "      <th>10642619</th>\n",
       "      <td>33</td>\n",
       "    </tr>\n",
       "    <tr>\n",
       "      <th>10942771</th>\n",
       "      <td>31</td>\n",
       "    </tr>\n",
       "    <tr>\n",
       "      <th>10879490</th>\n",
       "      <td>30</td>\n",
       "    </tr>\n",
       "    <tr>\n",
       "      <th>11157008</th>\n",
       "      <td>30</td>\n",
       "    </tr>\n",
       "    <tr>\n",
       "      <th>10807207</th>\n",
       "      <td>28</td>\n",
       "    </tr>\n",
       "    <tr>\n",
       "      <th>11253143</th>\n",
       "      <td>28</td>\n",
       "    </tr>\n",
       "    <tr>\n",
       "      <th>10993725</th>\n",
       "      <td>27</td>\n",
       "    </tr>\n",
       "  </tbody>\n",
       "</table>\n",
       "</div>"
      ],
      "text/plain": [
       "          Ratings\n",
       "Order ID         \n",
       "11197785       36\n",
       "11118329       34\n",
       "10806900       33\n",
       "10642619       33\n",
       "10942771       31\n",
       "10879490       30\n",
       "11157008       30\n",
       "10807207       28\n",
       "11253143       28\n",
       "10993725       27"
      ]
     },
     "execution_count": 17,
     "metadata": {},
     "output_type": "execute_result"
    }
   ],
   "source": [
    "popular_products = pd.DataFrame(ky_orders.groupby('Order ID')['Ratings'].count())\n",
    "most_popular = popular_products.sort_values('Ratings', ascending=False)\n",
    "most_popular.head(10)"
   ]
  },
  {
   "cell_type": "code",
   "execution_count": 18,
   "id": "db9f1373",
   "metadata": {},
   "outputs": [
    {
     "data": {
      "text/plain": [
       "<AxesSubplot:xlabel='Order ID'>"
      ]
     },
     "execution_count": 18,
     "metadata": {},
     "output_type": "execute_result"
    },
    {
     "data": {
      "image/png": "[encoded data removed]",
      "text/plain": [
       "<Figure size 432x288 with 1 Axes>"
      ]
     },
     "metadata": {},
     "output_type": "display_data"
    }
   ],
   "source": [
    "most_popular.head(30).plot(kind = \"bar\")"
   ]
  },
  {
   "cell_type": "markdown",
   "id": "8125500e",
   "metadata": {},
   "source": [
    "**Analysis:**\n",
    "\n",
    "The above graph gives us the most popular products (arranged in descending order) sold by the business."
   ]
  },
  {
   "cell_type": "markdown",
   "id": "23e603d4",
   "metadata": {},
   "source": [
    "#### Recommendation System - Part II\n",
    "Model-based collaborative filtering system\n",
    "\n",
    "* Recommend items to users based on purchase history and similarity of ratings provided by other users who bought items to that of a particular customer.\n",
    "* A model based collaborative filtering technique is chosen here as it helps in making predicting products for a particular user by identifying patterns based on preferences from multiple user data.\n",
    "\n",
    "Utility Matrix based on products sold and user reviews\n",
    "\n",
    "\n",
    "**Utility Matrix :** An utlity matrix is consists of all possible user-item preferences (ratings) details represented as a matrix. The utility matrix is sparce as none of the users would buy all the items in the list, hence, most of the values are unknown."
   ]
  },
  {
   "cell_type": "code",
   "execution_count": 19,
   "id": "be0d6aa8",
   "metadata": {},
   "outputs": [],
   "source": [
    "# Subset of Dataset\n",
    "\n",
    "sub_ky_orders = ky_orders.head(10000)"
   ]
  },
  {
   "cell_type": "code",
   "execution_count": 20,
   "id": "c9c0d7f4",
   "metadata": {},
   "outputs": [
    {
     "name": "stderr",
     "output_type": "stream",
     "text": [
      "<ipython-input-20-43cf981ff5e4>:1: SettingWithCopyWarning: \n",
      "A value is trying to be set on a copy of a slice from a DataFrame.\n",
      "Try using .loc[row_indexer,col_indexer] = value instead\n",
      "\n",
      "See the caveats in the documentation: https://pandas.pydata.org/pandas-docs/stable/user_guide/indexing.html#returning-a-view-versus-a-copy\n",
      "  sub_ky_orders['Ratings'] = sub_ky_orders['Ratings'].astype('int')\n"
     ]
    }
   ],
   "source": [
    "sub_ky_orders['Ratings'] = sub_ky_orders['Ratings'].astype('int')"
   ]
  },
  {
   "cell_type": "code",
   "execution_count": 21,
   "id": "7a2a6069",
   "metadata": {},
   "outputs": [
    {
     "name": "stdout",
     "output_type": "stream",
     "text": [
      "<class 'pandas.core.frame.DataFrame'>\n",
      "RangeIndex: 10000 entries, 0 to 9999\n",
      "Data columns (total 30 columns):\n",
      " #   Column                   Non-Null Count  Dtype  \n",
      "---  ------                   --------------  -----  \n",
      " 0   Order ID                 10000 non-null  int64  \n",
      " 1   Order Status             10000 non-null  object \n",
      " 2   Category Name            10000 non-null  object \n",
      " 3   SKU                      10000 non-null  object \n",
      " 4   Quantity                 10000 non-null  int64  \n",
      " 5   Unit Price               10000 non-null  int64  \n",
      " 6   Cost Price               10000 non-null  float64\n",
      " 7   Total Cost Price         10000 non-null  float64\n",
      " 8   Total Price              10000 non-null  int64  \n",
      " 9   Order Total              10000 non-null  float64\n",
      " 10  Sub Total                10000 non-null  int64  \n",
      " 11  Remaining Balance        10000 non-null  int64  \n",
      " 12  Payment Method           10000 non-null  object \n",
      " 13  Transaction ID           10000 non-null  int64  \n",
      " 14  Currency Symbol          10000 non-null  object \n",
      " 15  Customer ID              10000 non-null  int64  \n",
      " 16  Merchant ID              10000 non-null  int64  \n",
      " 17  Store Name               10000 non-null  object \n",
      " 18  Pickup Address           10000 non-null  object \n",
      " 19  Description              10000 non-null  object \n",
      " 20  Distance (in km)         10000 non-null  float64\n",
      " 21  Order Time               10000 non-null  object \n",
      " 22  Pickup Time              10000 non-null  object \n",
      " 23  Delivery Time            10000 non-null  object \n",
      " 24  Ratings                  10000 non-null  int32  \n",
      " 25  Reviews                  10000 non-null  object \n",
      " 26  Order Preparation Time   10000 non-null  int64  \n",
      " 27  Redeemed Loyalty Points  10000 non-null  float64\n",
      " 28  Consumed Loyalty Points  10000 non-null  float64\n",
      " 29  Flat Discount            10000 non-null  int64  \n",
      "dtypes: float64(6), int32(1), int64(11), object(12)\n",
      "memory usage: 2.3+ MB\n"
     ]
    }
   ],
   "source": [
    "sub_ky_orders.info()"
   ]
  },
  {
   "cell_type": "code",
   "execution_count": 24,
   "id": "500302b5",
   "metadata": {},
   "outputs": [
    {
     "data": {
      "text/html": [
       "<div>\n",
       "<style scoped>\n",
       "    .dataframe tbody tr th:only-of-type {\n",
       "        vertical-align: middle;\n",
       "    }\n",
       "\n",
       "    .dataframe tbody tr th {\n",
       "        vertical-align: top;\n",
       "    }\n",
       "\n",
       "    .dataframe thead th {\n",
       "        text-align: right;\n",
       "    }\n",
       "</style>\n",
       "<table border=\"1\" class=\"dataframe\">\n",
       "  <thead>\n",
       "    <tr style=\"text-align: right;\">\n",
       "      <th>Order ID</th>\n",
       "      <th>10598657</th>\n",
       "      <th>10601714</th>\n",
       "      <th>10603092</th>\n",
       "      <th>10603221</th>\n",
       "      <th>10603981</th>\n",
       "      <th>10604252</th>\n",
       "      <th>10604267</th>\n",
       "      <th>10604787</th>\n",
       "      <th>10604788</th>\n",
       "      <th>10604804</th>\n",
       "      <th>...</th>\n",
       "      <th>11260769</th>\n",
       "      <th>11261045</th>\n",
       "      <th>11261239</th>\n",
       "      <th>11261311</th>\n",
       "      <th>11261381</th>\n",
       "      <th>11261663</th>\n",
       "      <th>11262052</th>\n",
       "      <th>11264496</th>\n",
       "      <th>11264651</th>\n",
       "      <th>11265015</th>\n",
       "    </tr>\n",
       "    <tr>\n",
       "      <th>Customer ID</th>\n",
       "      <th></th>\n",
       "      <th></th>\n",
       "      <th></th>\n",
       "      <th></th>\n",
       "      <th></th>\n",
       "      <th></th>\n",
       "      <th></th>\n",
       "      <th></th>\n",
       "      <th></th>\n",
       "      <th></th>\n",
       "      <th></th>\n",
       "      <th></th>\n",
       "      <th></th>\n",
       "      <th></th>\n",
       "      <th></th>\n",
       "      <th></th>\n",
       "      <th></th>\n",
       "      <th></th>\n",
       "      <th></th>\n",
       "      <th></th>\n",
       "      <th></th>\n",
       "    </tr>\n",
       "  </thead>\n",
       "  <tbody>\n",
       "    <tr>\n",
       "      <th>3365019</th>\n",
       "      <td>0</td>\n",
       "      <td>0</td>\n",
       "      <td>0</td>\n",
       "      <td>0</td>\n",
       "      <td>0</td>\n",
       "      <td>0</td>\n",
       "      <td>0</td>\n",
       "      <td>0</td>\n",
       "      <td>0</td>\n",
       "      <td>0</td>\n",
       "      <td>...</td>\n",
       "      <td>0</td>\n",
       "      <td>0</td>\n",
       "      <td>0</td>\n",
       "      <td>0</td>\n",
       "      <td>0</td>\n",
       "      <td>0</td>\n",
       "      <td>0</td>\n",
       "      <td>0</td>\n",
       "      <td>0</td>\n",
       "      <td>0</td>\n",
       "    </tr>\n",
       "    <tr>\n",
       "      <th>3365770</th>\n",
       "      <td>0</td>\n",
       "      <td>0</td>\n",
       "      <td>0</td>\n",
       "      <td>0</td>\n",
       "      <td>0</td>\n",
       "      <td>0</td>\n",
       "      <td>0</td>\n",
       "      <td>0</td>\n",
       "      <td>0</td>\n",
       "      <td>0</td>\n",
       "      <td>...</td>\n",
       "      <td>0</td>\n",
       "      <td>0</td>\n",
       "      <td>0</td>\n",
       "      <td>0</td>\n",
       "      <td>0</td>\n",
       "      <td>0</td>\n",
       "      <td>0</td>\n",
       "      <td>0</td>\n",
       "      <td>0</td>\n",
       "      <td>0</td>\n",
       "    </tr>\n",
       "    <tr>\n",
       "      <th>3377953</th>\n",
       "      <td>0</td>\n",
       "      <td>0</td>\n",
       "      <td>0</td>\n",
       "      <td>0</td>\n",
       "      <td>0</td>\n",
       "      <td>0</td>\n",
       "      <td>0</td>\n",
       "      <td>0</td>\n",
       "      <td>0</td>\n",
       "      <td>0</td>\n",
       "      <td>...</td>\n",
       "      <td>0</td>\n",
       "      <td>0</td>\n",
       "      <td>0</td>\n",
       "      <td>0</td>\n",
       "      <td>0</td>\n",
       "      <td>0</td>\n",
       "      <td>0</td>\n",
       "      <td>0</td>\n",
       "      <td>0</td>\n",
       "      <td>0</td>\n",
       "    </tr>\n",
       "    <tr>\n",
       "      <th>3378262</th>\n",
       "      <td>0</td>\n",
       "      <td>0</td>\n",
       "      <td>0</td>\n",
       "      <td>0</td>\n",
       "      <td>0</td>\n",
       "      <td>0</td>\n",
       "      <td>0</td>\n",
       "      <td>0</td>\n",
       "      <td>0</td>\n",
       "      <td>0</td>\n",
       "      <td>...</td>\n",
       "      <td>0</td>\n",
       "      <td>0</td>\n",
       "      <td>0</td>\n",
       "      <td>0</td>\n",
       "      <td>0</td>\n",
       "      <td>0</td>\n",
       "      <td>0</td>\n",
       "      <td>0</td>\n",
       "      <td>0</td>\n",
       "      <td>0</td>\n",
       "    </tr>\n",
       "    <tr>\n",
       "      <th>3385533</th>\n",
       "      <td>0</td>\n",
       "      <td>0</td>\n",
       "      <td>0</td>\n",
       "      <td>0</td>\n",
       "      <td>0</td>\n",
       "      <td>0</td>\n",
       "      <td>0</td>\n",
       "      <td>0</td>\n",
       "      <td>0</td>\n",
       "      <td>0</td>\n",
       "      <td>...</td>\n",
       "      <td>0</td>\n",
       "      <td>0</td>\n",
       "      <td>0</td>\n",
       "      <td>0</td>\n",
       "      <td>0</td>\n",
       "      <td>0</td>\n",
       "      <td>0</td>\n",
       "      <td>0</td>\n",
       "      <td>0</td>\n",
       "      <td>0</td>\n",
       "    </tr>\n",
       "  </tbody>\n",
       "</table>\n",
       "<p>5 rows × 2647 columns</p>\n",
       "</div>"
      ],
      "text/plain": [
       "Order ID     10598657  10601714  10603092  10603221  10603981  10604252  \\\n",
       "Customer ID                                                               \n",
       "3365019             0         0         0         0         0         0   \n",
       "3365770             0         0         0         0         0         0   \n",
       "3377953             0         0         0         0         0         0   \n",
       "3378262             0         0         0         0         0         0   \n",
       "3385533             0         0         0         0         0         0   \n",
       "\n",
       "Order ID     10604267  10604787  10604788  10604804  ...  11260769  11261045  \\\n",
       "Customer ID                                          ...                       \n",
       "3365019             0         0         0         0  ...         0         0   \n",
       "3365770             0         0         0         0  ...         0         0   \n",
       "3377953             0         0         0         0  ...         0         0   \n",
       "3378262             0         0         0         0  ...         0         0   \n",
       "3385533             0         0         0         0  ...         0         0   \n",
       "\n",
       "Order ID     11261239  11261311  11261381  11261663  11262052  11264496  \\\n",
       "Customer ID                                                               \n",
       "3365019             0         0         0         0         0         0   \n",
       "3365770             0         0         0         0         0         0   \n",
       "3377953             0         0         0         0         0         0   \n",
       "3378262             0         0         0         0         0         0   \n",
       "3385533             0         0         0         0         0         0   \n",
       "\n",
       "Order ID     11264651  11265015  \n",
       "Customer ID                      \n",
       "3365019             0         0  \n",
       "3365770             0         0  \n",
       "3377953             0         0  \n",
       "3378262             0         0  \n",
       "3385533             0         0  \n",
       "\n",
       "[5 rows x 2647 columns]"
      ]
     },
     "execution_count": 24,
     "metadata": {},
     "output_type": "execute_result"
    }
   ],
   "source": [
    "ratings_utility_matrix = sub_ky_orders.pivot_table(values='Ratings', index='Customer ID', columns='Order ID', fill_value=0)\n",
    "ratings_utility_matrix.head()"
   ]
  },
  {
   "cell_type": "code",
   "execution_count": 25,
   "id": "acdbc3e7",
   "metadata": {},
   "outputs": [
    {
     "data": {
      "text/plain": [
       "(484, 2647)"
      ]
     },
     "execution_count": 25,
     "metadata": {},
     "output_type": "execute_result"
    }
   ],
   "source": [
    "ratings_utility_matrix.shape"
   ]
  },
  {
   "cell_type": "markdown",
   "id": "1d83fa6d",
   "metadata": {},
   "source": [
    "Transposing the matrix"
   ]
  },
  {
   "cell_type": "code",
   "execution_count": 26,
   "id": "6ace80e4",
   "metadata": {},
   "outputs": [
    {
     "data": {
      "text/html": [
       "<div>\n",
       "<style scoped>\n",
       "    .dataframe tbody tr th:only-of-type {\n",
       "        vertical-align: middle;\n",
       "    }\n",
       "\n",
       "    .dataframe tbody tr th {\n",
       "        vertical-align: top;\n",
       "    }\n",
       "\n",
       "    .dataframe thead th {\n",
       "        text-align: right;\n",
       "    }\n",
       "</style>\n",
       "<table border=\"1\" class=\"dataframe\">\n",
       "  <thead>\n",
       "    <tr style=\"text-align: right;\">\n",
       "      <th>Customer ID</th>\n",
       "      <th>3365019</th>\n",
       "      <th>3365770</th>\n",
       "      <th>3377953</th>\n",
       "      <th>3378262</th>\n",
       "      <th>3385533</th>\n",
       "      <th>3411830</th>\n",
       "      <th>3417088</th>\n",
       "      <th>3457559</th>\n",
       "      <th>3519514</th>\n",
       "      <th>3553157</th>\n",
       "      <th>...</th>\n",
       "      <th>5183788</th>\n",
       "      <th>5184162</th>\n",
       "      <th>5184560</th>\n",
       "      <th>5185247</th>\n",
       "      <th>5185639</th>\n",
       "      <th>5185675</th>\n",
       "      <th>5188032</th>\n",
       "      <th>5188161</th>\n",
       "      <th>5188263</th>\n",
       "      <th>5189011</th>\n",
       "    </tr>\n",
       "    <tr>\n",
       "      <th>Order ID</th>\n",
       "      <th></th>\n",
       "      <th></th>\n",
       "      <th></th>\n",
       "      <th></th>\n",
       "      <th></th>\n",
       "      <th></th>\n",
       "      <th></th>\n",
       "      <th></th>\n",
       "      <th></th>\n",
       "      <th></th>\n",
       "      <th></th>\n",
       "      <th></th>\n",
       "      <th></th>\n",
       "      <th></th>\n",
       "      <th></th>\n",
       "      <th></th>\n",
       "      <th></th>\n",
       "      <th></th>\n",
       "      <th></th>\n",
       "      <th></th>\n",
       "      <th></th>\n",
       "    </tr>\n",
       "  </thead>\n",
       "  <tbody>\n",
       "    <tr>\n",
       "      <th>10598657</th>\n",
       "      <td>0</td>\n",
       "      <td>0</td>\n",
       "      <td>0</td>\n",
       "      <td>0</td>\n",
       "      <td>0</td>\n",
       "      <td>0</td>\n",
       "      <td>0</td>\n",
       "      <td>0</td>\n",
       "      <td>0</td>\n",
       "      <td>0</td>\n",
       "      <td>...</td>\n",
       "      <td>0</td>\n",
       "      <td>0</td>\n",
       "      <td>0</td>\n",
       "      <td>0</td>\n",
       "      <td>0</td>\n",
       "      <td>0</td>\n",
       "      <td>0</td>\n",
       "      <td>0</td>\n",
       "      <td>0</td>\n",
       "      <td>0</td>\n",
       "    </tr>\n",
       "    <tr>\n",
       "      <th>10601714</th>\n",
       "      <td>0</td>\n",
       "      <td>0</td>\n",
       "      <td>0</td>\n",
       "      <td>0</td>\n",
       "      <td>0</td>\n",
       "      <td>0</td>\n",
       "      <td>0</td>\n",
       "      <td>0</td>\n",
       "      <td>0</td>\n",
       "      <td>0</td>\n",
       "      <td>...</td>\n",
       "      <td>0</td>\n",
       "      <td>0</td>\n",
       "      <td>0</td>\n",
       "      <td>0</td>\n",
       "      <td>0</td>\n",
       "      <td>0</td>\n",
       "      <td>0</td>\n",
       "      <td>0</td>\n",
       "      <td>0</td>\n",
       "      <td>0</td>\n",
       "    </tr>\n",
       "    <tr>\n",
       "      <th>10603092</th>\n",
       "      <td>0</td>\n",
       "      <td>0</td>\n",
       "      <td>0</td>\n",
       "      <td>0</td>\n",
       "      <td>0</td>\n",
       "      <td>0</td>\n",
       "      <td>0</td>\n",
       "      <td>0</td>\n",
       "      <td>0</td>\n",
       "      <td>0</td>\n",
       "      <td>...</td>\n",
       "      <td>0</td>\n",
       "      <td>0</td>\n",
       "      <td>0</td>\n",
       "      <td>0</td>\n",
       "      <td>0</td>\n",
       "      <td>0</td>\n",
       "      <td>0</td>\n",
       "      <td>0</td>\n",
       "      <td>0</td>\n",
       "      <td>0</td>\n",
       "    </tr>\n",
       "    <tr>\n",
       "      <th>10603221</th>\n",
       "      <td>0</td>\n",
       "      <td>0</td>\n",
       "      <td>0</td>\n",
       "      <td>0</td>\n",
       "      <td>0</td>\n",
       "      <td>0</td>\n",
       "      <td>0</td>\n",
       "      <td>0</td>\n",
       "      <td>0</td>\n",
       "      <td>0</td>\n",
       "      <td>...</td>\n",
       "      <td>0</td>\n",
       "      <td>0</td>\n",
       "      <td>0</td>\n",
       "      <td>0</td>\n",
       "      <td>0</td>\n",
       "      <td>0</td>\n",
       "      <td>0</td>\n",
       "      <td>0</td>\n",
       "      <td>0</td>\n",
       "      <td>0</td>\n",
       "    </tr>\n",
       "    <tr>\n",
       "      <th>10603981</th>\n",
       "      <td>0</td>\n",
       "      <td>0</td>\n",
       "      <td>0</td>\n",
       "      <td>0</td>\n",
       "      <td>0</td>\n",
       "      <td>0</td>\n",
       "      <td>0</td>\n",
       "      <td>0</td>\n",
       "      <td>0</td>\n",
       "      <td>0</td>\n",
       "      <td>...</td>\n",
       "      <td>0</td>\n",
       "      <td>0</td>\n",
       "      <td>0</td>\n",
       "      <td>0</td>\n",
       "      <td>0</td>\n",
       "      <td>0</td>\n",
       "      <td>0</td>\n",
       "      <td>0</td>\n",
       "      <td>0</td>\n",
       "      <td>0</td>\n",
       "    </tr>\n",
       "  </tbody>\n",
       "</table>\n",
       "<p>5 rows × 484 columns</p>\n",
       "</div>"
      ],
      "text/plain": [
       "Customer ID  3365019  3365770  3377953  3378262  3385533  3411830  3417088  \\\n",
       "Order ID                                                                     \n",
       "10598657           0        0        0        0        0        0        0   \n",
       "10601714           0        0        0        0        0        0        0   \n",
       "10603092           0        0        0        0        0        0        0   \n",
       "10603221           0        0        0        0        0        0        0   \n",
       "10603981           0        0        0        0        0        0        0   \n",
       "\n",
       "Customer ID  3457559  3519514  3553157  ...  5183788  5184162  5184560  \\\n",
       "Order ID                                ...                              \n",
       "10598657           0        0        0  ...        0        0        0   \n",
       "10601714           0        0        0  ...        0        0        0   \n",
       "10603092           0        0        0  ...        0        0        0   \n",
       "10603221           0        0        0  ...        0        0        0   \n",
       "10603981           0        0        0  ...        0        0        0   \n",
       "\n",
       "Customer ID  5185247  5185639  5185675  5188032  5188161  5188263  5189011  \n",
       "Order ID                                                                    \n",
       "10598657           0        0        0        0        0        0        0  \n",
       "10601714           0        0        0        0        0        0        0  \n",
       "10603092           0        0        0        0        0        0        0  \n",
       "10603221           0        0        0        0        0        0        0  \n",
       "10603981           0        0        0        0        0        0        0  \n",
       "\n",
       "[5 rows x 484 columns]"
      ]
     },
     "execution_count": 26,
     "metadata": {},
     "output_type": "execute_result"
    }
   ],
   "source": [
    "X = ratings_utility_matrix.T\n",
    "X.head()"
   ]
  },
  {
   "cell_type": "code",
   "execution_count": 27,
   "id": "dd0e815a",
   "metadata": {},
   "outputs": [
    {
     "data": {
      "text/plain": [
       "(2647, 484)"
      ]
     },
     "execution_count": 27,
     "metadata": {},
     "output_type": "execute_result"
    }
   ],
   "source": [
    "X.shape"
   ]
  },
  {
   "cell_type": "markdown",
   "id": "3486e860",
   "metadata": {},
   "source": [
    "Unique Products in subset of data"
   ]
  },
  {
   "cell_type": "code",
   "execution_count": 28,
   "id": "8b1a148c",
   "metadata": {},
   "outputs": [],
   "source": [
    "X1 = X"
   ]
  },
  {
   "cell_type": "markdown",
   "id": "d5d18797",
   "metadata": {},
   "source": [
    "Decomposing the matrix"
   ]
  },
  {
   "cell_type": "code",
   "execution_count": 29,
   "id": "6c636ec0",
   "metadata": {},
   "outputs": [
    {
     "data": {
      "text/plain": [
       "(2647, 10)"
      ]
     },
     "execution_count": 29,
     "metadata": {},
     "output_type": "execute_result"
    }
   ],
   "source": [
    "SVD = TruncatedSVD(n_components=10)\n",
    "decomposed_matrix = SVD.fit_transform(X)\n",
    "decomposed_matrix.shape"
   ]
  },
  {
   "cell_type": "markdown",
   "id": "55091a90",
   "metadata": {},
   "source": [
    "Correlation matrix"
   ]
  },
  {
   "cell_type": "code",
   "execution_count": 30,
   "id": "e4e6faba",
   "metadata": {},
   "outputs": [
    {
     "name": "stderr",
     "output_type": "stream",
     "text": [
      "C:\\Users\\HP\\anaconda3\\lib\\site-packages\\numpy\\lib\\function_base.py:2642: RuntimeWarning: invalid value encountered in true_divide\n",
      "  c /= stddev[:, None]\n",
      "C:\\Users\\HP\\anaconda3\\lib\\site-packages\\numpy\\lib\\function_base.py:2643: RuntimeWarning: invalid value encountered in true_divide\n",
      "  c /= stddev[None, :]\n"
     ]
    },
    {
     "data": {
      "text/plain": [
       "(2647, 2647)"
      ]
     },
     "execution_count": 30,
     "metadata": {},
     "output_type": "execute_result"
    }
   ],
   "source": [
    "correlation_matrix = np.corrcoef(decomposed_matrix)\n",
    "correlation_matrix.shape"
   ]
  },
  {
   "cell_type": "markdown",
   "id": "31069100",
   "metadata": {},
   "source": [
    "##### Recommending top 10 highly correlated products in sequence"
   ]
  },
  {
   "cell_type": "code",
   "execution_count": 57,
   "id": "e470002e",
   "metadata": {},
   "outputs": [
    {
     "data": {
      "text/plain": [
       "Int64Index([10598657, 10601714, 10603092, 10603221, 10603981, 10604252,\n",
       "            10604267, 10604787, 10604788],\n",
       "           dtype='int64', name='Order ID')"
      ]
     },
     "execution_count": 57,
     "metadata": {},
     "output_type": "execute_result"
    }
   ],
   "source": [
    "Recommend = X.index\n",
    "Recommend[0:9]"
   ]
  },
  {
   "cell_type": "markdown",
   "id": "5e4c30e5",
   "metadata": {},
   "source": [
    "#### Recommendation System - Part III\n",
    "For a business without any user-item purchase history, a search engine based recommendation system can be designed for users. The product recommendations can be based on textual clustering analysis given in product description."
   ]
  },
  {
   "cell_type": "code",
   "execution_count": 58,
   "id": "82780c78",
   "metadata": {},
   "outputs": [],
   "source": [
    "# Importing libraries\n",
    "\n",
    "from sklearn.feature_extraction.text import TfidfVectorizer, CountVectorizer\n",
    "from sklearn.neighbors import NearestNeighbors\n",
    "from sklearn.cluster import KMeans\n",
    "from sklearn.metrics import adjusted_rand_score"
   ]
  },
  {
   "cell_type": "code",
   "execution_count": 62,
   "id": "d1ff2511",
   "metadata": {},
   "outputs": [],
   "source": [
    "pr = ky_orders.copy()"
   ]
  },
  {
   "cell_type": "markdown",
   "id": "d17719f3",
   "metadata": {},
   "source": [
    "##### Feature extraction from product descriptions\n",
    "Converting the text in product description into numerical data for analysis"
   ]
  },
  {
   "cell_type": "code",
   "execution_count": 65,
   "id": "2603d18e",
   "metadata": {},
   "outputs": [
    {
     "data": {
      "text/plain": [
       "<12242x329 sparse matrix of type '<class 'numpy.float64'>'\n",
       "\twith 18707 stored elements in Compressed Sparse Row format>"
      ]
     },
     "execution_count": 65,
     "metadata": {},
     "output_type": "execute_result"
    }
   ],
   "source": [
    "vectorizer = TfidfVectorizer(stop_words='english')\n",
    "X1 = vectorizer.fit_transform(pr[\"Description\"])\n",
    "X1"
   ]
  },
  {
   "cell_type": "markdown",
   "id": "e9f63192",
   "metadata": {},
   "source": [
    "##### Visualizing product clusters in subset of data"
   ]
  },
  {
   "cell_type": "code",
   "execution_count": 66,
   "id": "9a67d7cb",
   "metadata": {},
   "outputs": [
    {
     "data": {
      "image/png": "[encoded data removed]",
      "text/plain": [
       "<Figure size 432x288 with 1 Axes>"
      ]
     },
     "metadata": {},
     "output_type": "display_data"
    }
   ],
   "source": [
    "# Fitting K-Means to the dataset\n",
    "\n",
    "X=X1\n",
    "\n",
    "kmeans = KMeans(n_clusters = 10, init = 'k-means++')\n",
    "y_kmeans = kmeans.fit_predict(X)\n",
    "plt.plot(y_kmeans, \".\")\n",
    "plt.show()"
   ]
  },
  {
   "cell_type": "code",
   "execution_count": 67,
   "id": "5f1fe205",
   "metadata": {},
   "outputs": [],
   "source": [
    "def print_cluster(i):\n",
    "    print(\"Cluster %d:\" % i),\n",
    "    for ind in order_centroids[i, :10]:\n",
    "        print(' %s' % terms[ind]),\n",
    "    print"
   ]
  },
  {
   "cell_type": "markdown",
   "id": "bd2358e6",
   "metadata": {},
   "source": [
    "**Output**\n",
    "* Recommendation of product based on the current product selected by user.\n",
    "* To recommend related product based on, Frequently bought together."
   ]
  },
  {
   "cell_type": "markdown",
   "id": "c6b89697",
   "metadata": {},
   "source": [
    "Top words in each cluster based on product description"
   ]
  },
  {
   "cell_type": "code",
   "execution_count": 68,
   "id": "6ba6f45c",
   "metadata": {},
   "outputs": [
    {
     "name": "stdout",
     "output_type": "stream",
     "text": [
      "Top terms per cluster:\n",
      "Cluster 0:\n",
      " day\n",
      " delivery\n",
      " deliver\n",
      " kindly\n",
      " 30\n",
      " morning\n",
      " 0742331031\n",
      " tomorrow\n",
      " 00\n",
      " 00a\n",
      "Cluster 1:\n",
      " 00am\n",
      " urgently\n",
      " morning\n",
      " deliver\n",
      " 10\n",
      " 30\n",
      " kindly\n",
      " 11\n",
      " tomorrow\n",
      " zero\n",
      "Cluster 2:\n",
      " 00a\n",
      " tomorrow\n",
      " morning\n",
      " deliver\n",
      " tommorrow\n",
      " latest\n",
      " 30\n",
      " urgently\n",
      " possible\n",
      " 0792588844\n",
      "Cluster 3:\n",
      " early\n",
      " 6am\n",
      " deliver\n",
      " kindly\n",
      " latest\n",
      " 00am\n",
      " chicken\n",
      " chips\n",
      " churned\n",
      " coca\n",
      "Cluster 4:\n",
      " 6am\n",
      " deliver\n",
      " kindly\n",
      " 0724232658\n",
      " strictly\n",
      " option\n",
      " emergency\n",
      " earlier\n",
      " delicer\n",
      " cola\n",
      "Cluster 5:\n",
      " deliver\n",
      " time\n",
      " morning\n",
      " zero\n",
      " contact\n",
      " chicken\n",
      " chips\n",
      " churned\n",
      " coca\n",
      " coke\n",
      "Cluster 6:\n",
      " 30a\n",
      " tomorrow\n",
      " morning\n",
      " deliver\n",
      " urgently\n",
      " needed\n",
      " tommorrow\n",
      " monday\n",
      " delivery\n",
      " contact\n",
      "Cluster 7:\n",
      " 7am\n",
      " deliver\n",
      " kindly\n",
      " early\n",
      " latest\n",
      " delivery\n",
      " possible\n",
      " try\n",
      " 6am\n",
      " bananas\n",
      "Cluster 8:\n",
      " delivery\n",
      " 00am\n",
      " morning\n",
      " urgent\n",
      " 10\n",
      " 30\n",
      " delivered\n",
      " churned\n",
      " coca\n",
      " coke\n",
      "Cluster 9:\n",
      " 30am\n",
      " urgently\n",
      " deliver\n",
      " morning\n",
      " early\n",
      " delivery\n",
      " kindly\n",
      " urgent\n",
      " 10\n",
      " churned\n"
     ]
    },
    {
     "name": "stderr",
     "output_type": "stream",
     "text": [
      "C:\\Users\\HP\\anaconda3\\lib\\site-packages\\sklearn\\utils\\deprecation.py:87: FutureWarning: Function get_feature_names is deprecated; get_feature_names is deprecated in 1.0 and will be removed in 1.2. Please use get_feature_names_out instead.\n",
      "  warnings.warn(msg, category=FutureWarning)\n"
     ]
    }
   ],
   "source": [
    "# # Optimal clusters is \n",
    "\n",
    "true_k = 10\n",
    "\n",
    "model = KMeans(n_clusters=true_k, init='k-means++', max_iter=100, n_init=1)\n",
    "model.fit(X1)\n",
    "\n",
    "print(\"Top terms per cluster:\")\n",
    "order_centroids = model.cluster_centers_.argsort()[:, ::-1]\n",
    "terms = vectorizer.get_feature_names()\n",
    "for i in range(true_k):\n",
    "    print_cluster(i)"
   ]
  },
  {
   "cell_type": "markdown",
   "id": "b711c3a7",
   "metadata": {},
   "source": [
    "Predicting clusters based on key search words"
   ]
  },
  {
   "cell_type": "code",
   "execution_count": 69,
   "id": "ae84771a",
   "metadata": {},
   "outputs": [],
   "source": [
    "def show_recommendations(product):\n",
    "    #print(\"Cluster ID:\")\n",
    "    Y = vectorizer.transform([product])\n",
    "    prediction = model.predict(Y)\n",
    "    #print(prediction)\n",
    "    print_cluster(prediction[0])"
   ]
  },
  {
   "cell_type": "markdown",
   "id": "bb8df57f",
   "metadata": {},
   "source": [
    "**keyword** - early meal"
   ]
  },
  {
   "cell_type": "code",
   "execution_count": 77,
   "id": "ec79a487",
   "metadata": {},
   "outputs": [
    {
     "name": "stdout",
     "output_type": "stream",
     "text": [
      "Cluster 3:\n",
      " early\n",
      " 6am\n",
      " deliver\n",
      " kindly\n",
      " latest\n",
      " 00am\n",
      " chicken\n",
      " chips\n",
      " churned\n",
      " coca\n"
     ]
    }
   ],
   "source": [
    "show_recommendations(\"early meal\")"
   ]
  },
  {
   "cell_type": "markdown",
   "id": "d8fba628",
   "metadata": {},
   "source": [
    "Once a cluster is identified based on the user's search words, the recommendation system can display items from the corresponding product clusters based on the product descriptions."
   ]
  },
  {
   "cell_type": "markdown",
   "id": "bc4dce3d",
   "metadata": {},
   "source": [
    "**Summary:**\n",
    "\n",
    "\n",
    "This works best if a business is setting up its e-commerce website for the first time and does not have user-item purchase/rating history to start with initally. This recommendation system will help the users get a good recommendation to start with and once the buyers have a purchased history, the recommendation engine can use the model based collaborative filtering technique."
   ]
  }
 ],
 "metadata": {
  "kernelspec": {
   "display_name": "Python 3",
   "language": "python",
   "name": "python3"
  },
  "language_info": {
   "codemirror_mode": {
    "name": "ipython",
    "version": 3
   },
   "file_extension": ".py",
   "mimetype": "text/x-python",
   "name": "python",
   "nbconvert_exporter": "python",
   "pygments_lexer": "ipython3",
   "version": "3.8.8"
  }
 },
 "nbformat": 4,
 "nbformat_minor": 5
}
